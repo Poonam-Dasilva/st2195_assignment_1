{
 "cells": [
  {
   "cell_type": "markdown",
   "id": "6f73444e",
   "metadata": {},
   "source": [
    "# R Markdown on Jupyter Notebook\n",
    "submitted by Poonam Dasilva on 14 Aug 2021\n",
    "\n",
    "## Exercise 4\n",
    "This is an R Markdown document, that contains code for **R** and **Python** to print integers from 1 to 10.  \n",
    "\n",
    "**R**\n",
    "\n",
    "for (x in 1:10) {\n",
    "  print(x)}\n",
    "  \n",
    "**Python**  "
   ]
  },
  {
   "cell_type": "code",
   "execution_count": 1,
   "id": "9d7cf291",
   "metadata": {},
   "outputs": [
    {
     "name": "stdout",
     "output_type": "stream",
     "text": [
      "1\n",
      "2\n",
      "3\n",
      "4\n",
      "5\n",
      "6\n",
      "7\n",
      "8\n",
      "9\n",
      "10\n"
     ]
    }
   ],
   "source": [
    "for x in range(1,11):\n",
    "    print(x)"
   ]
  },
  {
   "cell_type": "markdown",
   "id": "f2fb1c34",
   "metadata": {},
   "source": [
    "**Reference**\n",
    "\n",
    "1. Codes - [W3Schools](https://www.w3schools.com/)\n",
    "\n",
    "2. Markup Tutorial - [Reuven Lerner](https://www.youtube.com/watch?v=uVLzL5E-YBM)\n",
    "\n",
    "3. Create R Environment - [Anaconda Resources](https://docs.anaconda.com/anaconda/navigator/tutorials/r-lang/)\n",
    "\n",
    "Note: I tried to install rpy2 package on conda using this command - *conda install -c r rpy2*  so that the R code will work but I was not able to do it. I got an error saying my Python version is 3.8 which is higher than what the package can be installed on."
   ]
  },
  {
   "cell_type": "code",
   "execution_count": null,
   "id": "10342275",
   "metadata": {},
   "outputs": [],
   "source": []
  }
 ],
 "metadata": {
  "kernelspec": {
   "display_name": "Python 3",
   "language": "python",
   "name": "python3"
  },
  "language_info": {
   "codemirror_mode": {
    "name": "ipython",
    "version": 3
   },
   "file_extension": ".py",
   "mimetype": "text/x-python",
   "name": "python",
   "nbconvert_exporter": "python",
   "pygments_lexer": "ipython3",
   "version": "3.8.8"
  }
 },
 "nbformat": 4,
 "nbformat_minor": 5
}
